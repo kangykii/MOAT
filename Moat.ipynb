{
  "nbformat": 4,
  "nbformat_minor": 0,
  "metadata": {
    "colab": {
      "provenance": [],
      "include_colab_link": true
    },
    "kernelspec": {
      "name": "python3",
      "display_name": "Python 3"
    },
    "language_info": {
      "name": "python"
    },
    "widgets": {
      "application/vnd.jupyter.widget-state+json": {
        "dfca15ce3c6243808a406fee00f2a089": {
          "model_module": "@jupyter-widgets/controls",
          "model_name": "TextModel",
          "model_module_version": "1.5.0",
          "state": {
            "_dom_classes": [],
            "_model_module": "@jupyter-widgets/controls",
            "_model_module_version": "1.5.0",
            "_model_name": "TextModel",
            "_view_count": null,
            "_view_module": "@jupyter-widgets/controls",
            "_view_module_version": "1.5.0",
            "_view_name": "TextView",
            "continuous_update": true,
            "description": "Stock Symbol:",
            "description_tooltip": null,
            "disabled": false,
            "layout": "IPY_MODEL_17580d4e2b2842e7880af4ae39b1180a",
            "placeholder": "Enter stock symbol",
            "style": "IPY_MODEL_aaf5429a98d94b559a5d5c00998cbfe0",
            "value": "NVDA"
          }
        },
        "17580d4e2b2842e7880af4ae39b1180a": {
          "model_module": "@jupyter-widgets/base",
          "model_name": "LayoutModel",
          "model_module_version": "1.2.0",
          "state": {
            "_model_module": "@jupyter-widgets/base",
            "_model_module_version": "1.2.0",
            "_model_name": "LayoutModel",
            "_view_count": null,
            "_view_module": "@jupyter-widgets/base",
            "_view_module_version": "1.2.0",
            "_view_name": "LayoutView",
            "align_content": null,
            "align_items": null,
            "align_self": null,
            "border": null,
            "bottom": null,
            "display": null,
            "flex": null,
            "flex_flow": null,
            "grid_area": null,
            "grid_auto_columns": null,
            "grid_auto_flow": null,
            "grid_auto_rows": null,
            "grid_column": null,
            "grid_gap": null,
            "grid_row": null,
            "grid_template_areas": null,
            "grid_template_columns": null,
            "grid_template_rows": null,
            "height": null,
            "justify_content": null,
            "justify_items": null,
            "left": null,
            "margin": null,
            "max_height": null,
            "max_width": null,
            "min_height": null,
            "min_width": null,
            "object_fit": null,
            "object_position": null,
            "order": null,
            "overflow": null,
            "overflow_x": null,
            "overflow_y": null,
            "padding": null,
            "right": null,
            "top": null,
            "visibility": null,
            "width": null
          }
        },
        "aaf5429a98d94b559a5d5c00998cbfe0": {
          "model_module": "@jupyter-widgets/controls",
          "model_name": "DescriptionStyleModel",
          "model_module_version": "1.5.0",
          "state": {
            "_model_module": "@jupyter-widgets/controls",
            "_model_module_version": "1.5.0",
            "_model_name": "DescriptionStyleModel",
            "_view_count": null,
            "_view_module": "@jupyter-widgets/base",
            "_view_module_version": "1.2.0",
            "_view_name": "StyleView",
            "description_width": ""
          }
        },
        "83374edbc7e54f0b9aefdacfc0b4f094": {
          "model_module": "@jupyter-widgets/controls",
          "model_name": "ButtonModel",
          "model_module_version": "1.5.0",
          "state": {
            "_dom_classes": [],
            "_model_module": "@jupyter-widgets/controls",
            "_model_module_version": "1.5.0",
            "_model_name": "ButtonModel",
            "_view_count": null,
            "_view_module": "@jupyter-widgets/controls",
            "_view_module_version": "1.5.0",
            "_view_name": "ButtonView",
            "button_style": "",
            "description": "Fetch Data",
            "disabled": false,
            "icon": "search",
            "layout": "IPY_MODEL_95739a715efa4b4dab84aa1c05a2c464",
            "style": "IPY_MODEL_2001de7994ac416a8f689a0aaf1d809d",
            "tooltip": "Click to fetch financial data"
          }
        },
        "95739a715efa4b4dab84aa1c05a2c464": {
          "model_module": "@jupyter-widgets/base",
          "model_name": "LayoutModel",
          "model_module_version": "1.2.0",
          "state": {
            "_model_module": "@jupyter-widgets/base",
            "_model_module_version": "1.2.0",
            "_model_name": "LayoutModel",
            "_view_count": null,
            "_view_module": "@jupyter-widgets/base",
            "_view_module_version": "1.2.0",
            "_view_name": "LayoutView",
            "align_content": null,
            "align_items": null,
            "align_self": null,
            "border": null,
            "bottom": null,
            "display": null,
            "flex": null,
            "flex_flow": null,
            "grid_area": null,
            "grid_auto_columns": null,
            "grid_auto_flow": null,
            "grid_auto_rows": null,
            "grid_column": null,
            "grid_gap": null,
            "grid_row": null,
            "grid_template_areas": null,
            "grid_template_columns": null,
            "grid_template_rows": null,
            "height": null,
            "justify_content": null,
            "justify_items": null,
            "left": null,
            "margin": null,
            "max_height": null,
            "max_width": null,
            "min_height": null,
            "min_width": null,
            "object_fit": null,
            "object_position": null,
            "order": null,
            "overflow": null,
            "overflow_x": null,
            "overflow_y": null,
            "padding": null,
            "right": null,
            "top": null,
            "visibility": null,
            "width": null
          }
        },
        "2001de7994ac416a8f689a0aaf1d809d": {
          "model_module": "@jupyter-widgets/controls",
          "model_name": "ButtonStyleModel",
          "model_module_version": "1.5.0",
          "state": {
            "_model_module": "@jupyter-widgets/controls",
            "_model_module_version": "1.5.0",
            "_model_name": "ButtonStyleModel",
            "_view_count": null,
            "_view_module": "@jupyter-widgets/base",
            "_view_module_version": "1.2.0",
            "_view_name": "StyleView",
            "button_color": null,
            "font_weight": ""
          }
        }
      }
    }
  },
  "cells": [
    {
      "cell_type": "markdown",
      "metadata": {
        "id": "view-in-github",
        "colab_type": "text"
      },
      "source": [
        "<a href=\"https://colab.research.google.com/github/kangykii/MOAT/blob/main/Moat.ipynb\" target=\"_parent\"><img src=\"https://colab.research.google.com/assets/colab-badge.svg\" alt=\"Open In Colab\"/></a>"
      ]
    },
    {
      "cell_type": "code",
      "metadata": {
        "colab": {
          "base_uri": "https://localhost:8080/",
          "height": 205,
          "referenced_widgets": [
            "dfca15ce3c6243808a406fee00f2a089",
            "17580d4e2b2842e7880af4ae39b1180a",
            "aaf5429a98d94b559a5d5c00998cbfe0",
            "83374edbc7e54f0b9aefdacfc0b4f094",
            "95739a715efa4b4dab84aa1c05a2c464",
            "2001de7994ac416a8f689a0aaf1d809d"
          ]
        },
        "id": "8592ebfd",
        "outputId": "255460d8-2e91-45b8-8d93-28c3d4dcdb29"
      },
      "source": [
        "import requests\n",
        "import ipywidgets as widgets\n",
        "from IPython.display import display, clear_output\n",
        "from google.colab import userdata\n",
        "\n",
        "# Retrieve the API key from Colab's Secrets Manager\n",
        "# Make sure you have added your API key with the name 'ALPHAVANTAGE_KEY'\n",
        "API_KEY = userdata.get('ALPHAVANTAGE_KEY')\n",
        "\n",
        "# Create a text input widget for the stock symbol\n",
        "stock_symbol_input = widgets.Text(\n",
        "    value='NVDA',\n",
        "    placeholder='Enter stock symbol',\n",
        "    description='Stock Symbol:',\n",
        "    disabled=False\n",
        ")\n",
        "\n",
        "# Create a button widget to trigger data fetch\n",
        "fetch_button = widgets.Button(\n",
        "    description='Fetch Data',\n",
        "    disabled=False,\n",
        "    button_style='', # 'success', 'info', 'warning', 'danger' or ''\n",
        "    tooltip='Click to fetch financial data',\n",
        "    icon='search' # (FontAwesome icons available: https://fontawesome.com/icons?d=gallery&c=technical)\n",
        ")\n",
        "\n",
        "# Display the input widget and the button\n",
        "display(stock_symbol_input, fetch_button)\n",
        "\n",
        "def fetch_and_display_data(symbol):\n",
        "    \"\"\"Fetches and displays financial data for a given stock symbol.\"\"\"\n",
        "    print(f\"Attempting to fetch data for symbol: {symbol}\") # Debug print\n",
        "    clear_output(wait=True)  # Clear previous output\n",
        "    display(stock_symbol_input, fetch_button) # Re-display the input widget and button after clearing\n",
        "    url = f'https://www.alphavantage.co/query?function=INCOME_STATEMENT&symbol={symbol}&apikey={API_KEY}'\n",
        "    print(f\"API URL: {url}\") # Debug print\n",
        "    response = requests.get(url)\n",
        "    data = response.json()\n",
        "    print(f\"API Response received: {data}\") # Debug print\n",
        "\n",
        "\n",
        "    if 'annualReports' in data:\n",
        "        print(f\"\\nGross Profit for {symbol} (Last 5 Years):\")\n",
        "        # Display only the last 5 annual reports\n",
        "        for i, report in enumerate(data['annualReports']):\n",
        "            if i >= 5:\n",
        "                break\n",
        "            fiscal_year = report.get('fiscalDateEnding', 'N/A')\n",
        "            gross_profit = report.get('grossProfit', 'N/A')\n",
        "            print(f\"{fiscal_year} : {gross_profit}\")\n",
        "    else:\n",
        "        print(f\"Annual reports data not found for {symbol}.\")\n",
        "        print(\"\\nFull API response:\")\n",
        "        print(data) # Print the full response to help diagnose the issue\n",
        "\n",
        "# Link the button click to the data fetching function\n",
        "def on_button_clicked(b):\n",
        "    print(\"Button clicked!\") # Debug print\n",
        "    fetch_and_display_data(stock_symbol_input.value)\n",
        "\n",
        "fetch_button.on_click(on_button_clicked)\n",
        "\n",
        "# Initial fetch and display based on the default value (Optional - remove if you only want data on button click)\n",
        "fetch_and_display_data(stock_symbol_input.value)"
      ],
      "execution_count": 19,
      "outputs": [
        {
          "output_type": "display_data",
          "data": {
            "text/plain": [
              "Text(value='NVDA', description='Stock Symbol:', placeholder='Enter stock symbol')"
            ],
            "application/vnd.jupyter.widget-view+json": {
              "version_major": 2,
              "version_minor": 0,
              "model_id": "dfca15ce3c6243808a406fee00f2a089"
            }
          },
          "metadata": {}
        },
        {
          "output_type": "display_data",
          "data": {
            "text/plain": [
              "Button(description='Fetch Data', icon='search', style=ButtonStyle(), tooltip='Click to fetch financial data')"
            ],
            "application/vnd.jupyter.widget-view+json": {
              "version_major": 2,
              "version_minor": 0,
              "model_id": "83374edbc7e54f0b9aefdacfc0b4f094"
            }
          },
          "metadata": {}
        },
        {
          "output_type": "stream",
          "name": "stdout",
          "text": [
            "API URL: https://www.alphavantage.co/query?function=INCOME_STATEMENT&symbol=NVDA&apikey=B61T5SNFOGJCR1BH\n",
            "API Response received: {'Information': 'We have detected your API key as B61T5SNFOGJCR1BH and our standard API rate limit is 25 requests per day. Please subscribe to any of the premium plans at https://www.alphavantage.co/premium/ to instantly remove all daily rate limits.'}\n",
            "Annual reports data not found for NVDA.\n",
            "\n",
            "Full API response:\n",
            "{'Information': 'We have detected your API key as B61T5SNFOGJCR1BH and our standard API rate limit is 25 requests per day. Please subscribe to any of the premium plans at https://www.alphavantage.co/premium/ to instantly remove all daily rate limits.'}\n"
          ]
        }
      ]
    }
  ]
}